{
 "cells": [
  {
   "cell_type": "markdown",
   "metadata": {},
   "source": [
    "# Anaysis for Optimising Personal Mibility Collect time\n",
    "(for data science study)\n",
    "### Perpose \n",
    "Analysis datas for optimising Personal Mibility Cycle collect  \n",
    "\n",
    "### way of Anaysis\n",
    "clustering cycle stations by latitude and longitude  \n",
    "then for each cluster, regression cycle going out and comming in time  \n",
    "\n",
    "we can get insight that there are two type of region\n",
    "\n",
    "data sources https://www.kaggle.com/datasets/pronto/cycle-share-dataset?select=trip.csv  \n",
    "#### <em>Data Set has problem</em>  \n",
    "first 50000 line is duplicated and containing not readable by pandas\n",
    "\n",
    "we did manualy remove fisrt 50000 lines"
   ]
  },
  {
   "cell_type": "code",
   "execution_count": 1,
   "metadata": {},
   "outputs": [],
   "source": [
    "%matplotlib inline\n",
    "import numpy as np\n",
    "import pandas as pd\n",
    "from sklearn.cluster import KMeans\n",
    "from sklearn.linear_model import LinearRegression\n",
    "from sklearn.preprocessing import StandardScaler,RobustScaler,PolynomialFeatures\n",
    "from sklearn.model_selection import train_test_split\n",
    "from sklearn.metrics import mean_squared_error,r2_score\n",
    "from matplotlib import pyplot as plt\n",
    "import seaborn as sns"
   ]
  },
  {
   "cell_type": "code",
   "execution_count": 2,
   "metadata": {},
   "outputs": [],
   "source": [
    "pd.set_option('display.max_rows',None)"
   ]
  },
  {
   "cell_type": "markdown",
   "metadata": {},
   "source": [
    "## PreProcessing And Curation"
   ]
  },
  {
   "cell_type": "markdown",
   "metadata": {},
   "source": [
    "#### Data Definition"
   ]
  },
  {
   "cell_type": "code",
   "execution_count": 3,
   "metadata": {},
   "outputs": [],
   "source": [
    "df_station = pd.read_csv(\"station.csv\")\n",
    "df_trip = pd.read_csv(\"trip.csv\",parse_dates=['starttime','stoptime'])\n",
    "df_station_GCS = pd.DataFrame(df_station.iloc[:,2:4],columns = ['lat','long']);"
   ]
  },
  {
   "cell_type": "markdown",
   "metadata": {},
   "source": [
    "#### feature selection"
   ]
  },
  {
   "cell_type": "code",
   "execution_count": 4,
   "metadata": {},
   "outputs": [],
   "source": [
    "df_trip.drop(['trip_id', 'bikeid', 'tripduration','from_station_name', 'to_station_name', 'usertype', 'gender', 'birthyear'],axis=1,inplace=True)\n",
    "df_station.drop(['name', 'lat', 'long', 'install_date','install_dockcount', 'modification_date', 'current_dockcount','decommission_date'],axis=1,inplace=True)"
   ]
  },
  {
   "cell_type": "markdown",
   "metadata": {},
   "source": [
    "#### feature creation"
   ]
  },
  {
   "cell_type": "code",
   "execution_count": 5,
   "metadata": {},
   "outputs": [],
   "source": [
    "df_trip['day']=df_trip['stoptime'].dt.day.astype('category')\n",
    "df_trip['starttime']=df_trip['stoptime'].dt.hour.astype('category')\n",
    "df_trip['stoptime']=df_trip['stoptime'].dt.hour.astype('category')"
   ]
  },
  {
   "cell_type": "markdown",
   "metadata": {},
   "source": [
    "#### scaling data"
   ]
  },
  {
   "cell_type": "code",
   "execution_count": 6,
   "metadata": {},
   "outputs": [],
   "source": [
    "standard_scaler = StandardScaler().fit(df_station_GCS)\n",
    "df_station_GCS = standard_scaler.transform(df_station_GCS)\n",
    "scaled_df = pd.DataFrame(df_station_GCS,columns=['lat','long'])\n"
   ]
  },
  {
   "cell_type": "markdown",
   "metadata": {},
   "source": [
    "## Clustering\n",
    "scaled_df is scaled data of latitude and longitude  \n",
    "then clustering these data by KMeans"
   ]
  },
  {
   "cell_type": "markdown",
   "metadata": {},
   "source": [
    "### process clustering"
   ]
  },
  {
   "cell_type": "code",
   "execution_count": 7,
   "metadata": {},
   "outputs": [],
   "source": [
    "model = KMeans(init=\"k-means++\", n_clusters=4, n_init=12)\n",
    "model.fit(scaled_df)\n",
    "# save cluster id\n",
    "df_station['cluster'] = model.labels_\n",
    "model_center = model.cluster_centers_"
   ]
  },
  {
   "cell_type": "markdown",
   "metadata": {},
   "source": [
    "### Cluster Distribution\n",
    "we can see distribution on cycle station"
   ]
  },
  {
   "cell_type": "code",
   "execution_count": 8,
   "metadata": {},
   "outputs": [
    {
     "data": {
      "image/png": "[encoded data removed]",
      "text/plain": [
       "<Figure size 432x288 with 1 Axes>"
      ]
     },
     "metadata": {
      "needs_background": "light"
     },
     "output_type": "display_data"
    }
   ],
   "source": [
    "fig = plt.figure(figsize=(6, 4))\n",
    "colors = plt.cm.Spectral(np.linspace(0, 1, len(set(df_station['cluster']))))\n",
    "ax = fig.add_subplot(1, 1, 1)\n",
    "\n",
    "for k, col in zip(range(4), colors):\n",
    "    my_members = (df_station['cluster'] == k)\n",
    "    cluster_center = model_center[k]\n",
    "    ax.scatter(scaled_df[\"long\"][my_members], scaled_df[\"lat\"][my_members],alpha = 0.5)\n",
    "    ax.scatter(cluster_center[1], cluster_center[0],color = 'r', marker='D')\n",
    "\n",
    "ax.set_title('K-Means')\n",
    "plt.show()\n"
   ]
  },
  {
   "cell_type": "markdown",
   "metadata": {},
   "source": [
    "### Process Clustered Result\n",
    "replace cluster id and station id"
   ]
  },
  {
   "cell_type": "code",
   "execution_count": 9,
   "metadata": {},
   "outputs": [],
   "source": [
    "len = len(df_station['station_id'])\n",
    "for i in range(0,len):\n",
    "    df_trip.replace(df_station['station_id'][i],df_station['cluster'][i],inplace=True)\n",
    "\n",
    "df_trip['from_station_id']=df_trip['from_station_id'].astype('category')\n",
    "df_trip['to_station_id']=df_trip['to_station_id'].astype('category')\n",
    "\n",
    "grouped_df=df_trip.groupby(['to_station_id','stoptime']).count().reset_index()\n"
   ]
  },
  {
   "cell_type": "markdown",
   "metadata": {},
   "source": [
    "### visualize clustering results\n",
    "\n",
    "for each cluser, visualize docked cycle count  "
   ]
  },
  {
   "cell_type": "code",
   "execution_count": 10,
   "metadata": {},
   "outputs": [
    {
     "data": {
      "image/png": "[encoded data removed]",
      "text/plain": [
       "<Figure size 432x288 with 4 Axes>"
      ]
     },
     "metadata": {
      "needs_background": "light"
     },
     "output_type": "display_data"
    }
   ],
   "source": [
    "cluster_id = ['A','B','C','D']\n",
    "color = ['r','g','b','violet']\n",
    "\n",
    "for i in range(0,4):\n",
    "    group = grouped_df.loc[grouped_df['to_station_id']==i]\n",
    "    plt.subplot(2,2,i+1)\n",
    "    plt.bar(group['stoptime'],group['starttime'],color=color[i],alpha=0.5)\n",
    "    plt.title(cluster_id[i])\n",
    "    plt.xlabel('time')\n",
    "    plt.ylabel('count')\n",
    "    \n",
    "plt.show()\n"
   ]
  },
  {
   "cell_type": "markdown",
   "metadata": {},
   "source": [
    "## regression\n",
    "\n",
    "#### feature creation&selection"
   ]
  },
  {
   "cell_type": "code",
   "execution_count": 11,
   "metadata": {},
   "outputs": [],
   "source": [
    "df=df_trip.drop(['starttime'],axis=1)\n",
    "df=df.groupby(['to_station_id','stoptime','day']).count().reset_index()\n",
    "df.drop(['day'],axis=1,inplace=True)"
   ]
  },
  {
   "cell_type": "markdown",
   "metadata": {},
   "source": [
    "### repeated regression by cluster"
   ]
  },
  {
   "cell_type": "code",
   "execution_count": 14,
   "metadata": {},
   "outputs": [
    {
     "data": {
      "image/png": "[encoded data removed]",
      "text/plain": [
       "<Figure size 432x288 with 4 Axes>"
      ]
     },
     "metadata": {
      "needs_background": "light"
     },
     "output_type": "display_data"
    }
   ],
   "source": [
    "regression_results = []\n",
    "fig, ax = plt.subplots(1,4)\n",
    "for i in range(0,4):\n",
    "    group = df.loc[df['to_station_id']==i]\n",
    "    \n",
    "\n",
    "    #scaling data\n",
    "    standard_scaler = RobustScaler().fit(group)\n",
    "    group = standard_scaler.transform(group)\n",
    "    scaled_df = pd.DataFrame(group,columns=['to_station_id','stoptime','from_station_id'])\n",
    "\n",
    "    #target Data and Learning Data\n",
    "    df_x=scaled_df.drop(['to_station_id','from_station_id'],axis=1)\n",
    "    df_y=scaled_df['from_station_id']\n",
    "    \n",
    "    #set degree for polynomial regression\n",
    "    poly_features = PolynomialFeatures(degree=9, include_bias=True)\n",
    "\n",
    "    #repeated regression 3 times\n",
    "    results = []\n",
    "    for j in range(0,3):\n",
    "        X_train, X_test, y_train, y_test = train_test_split(df_x,df_y,test_size=0.3,shuffle=True)\n",
    "\n",
    "        model = LinearRegression()\n",
    "        x_poly = poly_features.fit_transform(X_train.values)\n",
    "        model.fit(x_poly, y_train.values)\n",
    "\n",
    "        X_new_poly = poly_features.transform(X_test.values)\n",
    "        y_pred = model.predict(X_new_poly)\n",
    "        regressed = {\n",
    "            \"R2 Score\" : r2_score(y_test, y_pred),\n",
    "            \"MSE\" : mean_squared_error(y_test, y_pred)\n",
    "        }\n",
    "        results.append(regressed)\n",
    "    ret = {\"cluster\" :\"cluster\"+cluster_id[i], \"output\" : results }\n",
    "    regression_results.append(ret)\n",
    "    \n",
    "    #visualize regression results\n",
    "    ax[i].plot(1,4,i+1)\n",
    "    ax[i].set_title(\"cluster\"+cluster_id[i])\n",
    "    ax[i].scatter(df_x, df_y, s=5,color=color[i])\n",
    "\n",
    "    xx = np.linspace(-1, 1, 100).reshape(100, 1)\n",
    "    X_new_poly = poly_features.transform(xx)\n",
    "    y_pred = model.predict(X_new_poly)\n",
    "    ax[i].plot(xx, y_pred, color='black')"
   ]
  },
  {
   "cell_type": "markdown",
   "metadata": {},
   "source": [
    "We can see regression result of each cluster"
   ]
  },
  {
   "cell_type": "code",
   "execution_count": 13,
   "metadata": {},
   "outputs": [
    {
     "data": {
      "text/plain": [
       "[{'cluster': 'clusterA',\n",
       "  'output': [{'R2 Score': 0.8372713061522418, 'MSE': 0.05544439203395488},\n",
       "   {'R2 Score': 0.861924143749941, 'MSE': 0.05076591759366633},\n",
       "   {'R2 Score': 0.8576720738016981, 'MSE': 0.050043275673509226}]},\n",
       " {'cluster': 'clusterB',\n",
       "  'output': [{'R2 Score': 0.8544012367544255, 'MSE': 0.04738162145653996},\n",
       "   {'R2 Score': 0.8876314061976234, 'MSE': 0.03837236178482754},\n",
       "   {'R2 Score': 0.8842942770758565, 'MSE': 0.043243951339320776}]},\n",
       " {'cluster': 'clusterC',\n",
       "  'output': [{'R2 Score': 0.9112758979936013, 'MSE': 0.0408646363283157},\n",
       "   {'R2 Score': 0.8858380404949089, 'MSE': 0.05265420051762277},\n",
       "   {'R2 Score': 0.9012050481792636, 'MSE': 0.046213257212537044}]},\n",
       " {'cluster': 'clusterD',\n",
       "  'output': [{'R2 Score': 0.8854797430830402, 'MSE': 0.03494610613230405},\n",
       "   {'R2 Score': 0.8931307380764494, 'MSE': 0.03238840417949178},\n",
       "   {'R2 Score': 0.8837108710810849, 'MSE': 0.03609224567939305}]}]"
      ]
     },
     "execution_count": 13,
     "metadata": {},
     "output_type": "execute_result"
    }
   ],
   "source": [
    "regression_results\n"
   ]
  }
 ],
 "metadata": {
  "interpreter": {
   "hash": "6269b70ebfaf0abc7a0f3e3abb827248ef2a1635c7e3dd48394822e4a8246db3"
  },
  "kernelspec": {
   "display_name": "Python 3.10.4 ('dataScience')",
   "language": "python",
   "name": "python3"
  },
  "language_info": {
   "codemirror_mode": {
    "name": "ipython",
    "version": 3
   },
   "file_extension": ".py",
   "mimetype": "text/x-python",
   "name": "python",
   "nbconvert_exporter": "python",
   "pygments_lexer": "ipython3",
   "version": "3.10.4"
  },
  "orig_nbformat": 4
 },
 "nbformat": 4,
 "nbformat_minor": 2
}
